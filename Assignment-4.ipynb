{
  "nbformat": 4,
  "nbformat_minor": 0,
  "metadata": {
    "colab": {
      "provenance": [],
      "authorship_tag": "ABX9TyOGJGzAC3idIB/ReP/4ltgL",
      "include_colab_link": true
    },
    "kernelspec": {
      "name": "python3",
      "display_name": "Python 3"
    },
    "language_info": {
      "name": "python"
    }
  },
  "cells": [
    {
      "cell_type": "markdown",
      "metadata": {
        "id": "view-in-github",
        "colab_type": "text"
      },
      "source": [
        "<a href=\"https://colab.research.google.com/github/VoorugondaAnushka/2303A51176_B29_PDS/blob/main/Assignment-4.ipynb\" target=\"_parent\"><img src=\"https://colab.research.google.com/assets/colab-badge.svg\" alt=\"Open In Colab\"/></a>"
      ]
    },
    {
      "cell_type": "code",
      "execution_count": 3,
      "metadata": {
        "colab": {
          "base_uri": "https://localhost:8080/"
        },
        "id": "9fxQeXKCPu3z",
        "outputId": "462dac77-2c95-4122-d267-8ada3b77c474"
      },
      "outputs": [
        {
          "output_type": "stream",
          "name": "stdout",
          "text": [
            "Feedback for 'Python for Data Science' with Rating >= 4:\n",
            "  User_ID                                       Feedback\n",
            "0    U001            Very useful and easy to understand.\n",
            "1    U002               Great course with good examples.\n",
            "5    U006  Amazing! I feel more confident in coding now.\n"
          ]
        }
      ],
      "source": [
        "import pandas as pd\n",
        "\n",
        "df = pd.read_csv(\"/content/course_feedback.csv\")\n",
        "\n",
        "df = df.dropna(subset=[\"Rating\"])\n",
        "\n",
        "filtered = df[(df[\"Course_Name\"] == \"Python for Data Science\") & (df[\"Rating\"] >= 4)]\n",
        "\n",
        "print(\"Feedback for 'Python for Data Science' with Rating >= 4:\")\n",
        "print(filtered[[\"User_ID\", \"Feedback\"]])\n"
      ]
    },
    {
      "cell_type": "code",
      "source": [
        "import pandas as pd\n",
        "\n",
        "# Read the CSV file\n",
        "df = pd.read_csv(\"/content/air_quality (1).csv\")\n",
        "\n",
        "# Fill missing pollutant values using forward fill\n",
        "df = df.fillna(method=\"ffill\")\n",
        "\n",
        "# Filter polluted day records\n",
        "polluted = df[(df[\"PM2.5\"] > 150) & (df[\"NO2\"] > 80)]\n",
        "\n",
        "# Display polluted day records\n",
        "print(\"Polluted day records (PM2.5 > 150 and NO2 > 80):\")\n",
        "print(polluted)\n"
      ],
      "metadata": {
        "colab": {
          "base_uri": "https://localhost:8080/"
        },
        "id": "5GwlK1mHRmww",
        "outputId": "e57780d4-0e4e-4271-a006-71648c339603"
      },
      "execution_count": 4,
      "outputs": [
        {
          "output_type": "stream",
          "name": "stdout",
          "text": [
            "Polluted day records (PM2.5 > 150 and NO2 > 80):\n",
            "  Location  PM2.5   PM10  NO2  SO2        Date\n",
            "1    CityB  160.0  200.0   85   30  2025-08-02\n",
            "3    CityD  155.0  190.0   82   28  2025-08-04\n",
            "4    CityE  170.0  190.0   90   35  2025-08-05\n",
            "6    CityG  200.0  220.0   95   40  2025-08-07\n"
          ]
        },
        {
          "output_type": "stream",
          "name": "stderr",
          "text": [
            "/tmp/ipython-input-3248982956.py:7: FutureWarning: DataFrame.fillna with 'method' is deprecated and will raise in a future version. Use obj.ffill() or obj.bfill() instead.\n",
            "  df = df.fillna(method=\"ffill\")\n"
          ]
        }
      ]
    }
  ]
}