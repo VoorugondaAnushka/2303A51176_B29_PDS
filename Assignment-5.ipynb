{
  "nbformat": 4,
  "nbformat_minor": 0,
  "metadata": {
    "colab": {
      "provenance": [],
      "authorship_tag": "ABX9TyP+cplOztaPHXNJZO4c6Hln",
      "include_colab_link": true
    },
    "kernelspec": {
      "name": "python3",
      "display_name": "Python 3"
    },
    "language_info": {
      "name": "python"
    }
  },
  "cells": [
    {
      "cell_type": "markdown",
      "metadata": {
        "id": "view-in-github",
        "colab_type": "text"
      },
      "source": [
        "<a href=\"https://colab.research.google.com/github/VoorugondaAnushka/2303A51176_B29_PDS/blob/main/Assignment-5.ipynb\" target=\"_parent\"><img src=\"https://colab.research.google.com/assets/colab-badge.svg\" alt=\"Open In Colab\"/></a>"
      ]
    },
    {
      "cell_type": "code",
      "source": [
        "import pandas as pd\n",
        "\n",
        "customers = pd.DataFrame({\n",
        "    \"customer_id\": [1, 2, 3, 4, 5],\n",
        "    \"name\": [\"Alice\", \"Bob\", \"Charlie\", \"David\", \"Eva\"],\n",
        "    \"city\": [\"Hyderabad\", \"Bangalore\", \"Hyderabad\", \"Chennai\", \"Bangalore\"]\n",
        "})\n",
        "\n",
        "transactions = pd.DataFrame({\n",
        "    \"transaction_id\": [101, 102, 103, 104, 105, 106, 107],\n",
        "    \"customer_id\": [1, 2, 1, 3, 4, 5, 2],\n",
        "    \"amount\": [250, 400, 150, 300, 500, 200, 350]\n",
        "})"
      ],
      "metadata": {
        "id": "IypuvrWYAbde"
      },
      "execution_count": 7,
      "outputs": []
    },
    {
      "cell_type": "code",
      "source": [
        "merged = pd.merge(transactions, customers, on=\"customer_id\")\n",
        "print(\"Merged Dataset:\\n\", merged)\n",
        "\n",
        "customer_spend = merged.groupby([\"customer_id\", \"name\"])[\"amount\"].sum().reset_index()\n",
        "customer_spend.rename(columns={\"amount\": \"total_spend\"}, inplace=True)\n",
        "print(\"\\nCustomer Spend:\\n\", customer_spend)"
      ],
      "metadata": {
        "colab": {
          "base_uri": "https://localhost:8080/",
          "height": 0
        },
        "id": "_yFlwf1nAfCZ",
        "outputId": "2bf7720c-8ab7-4d46-ed8e-62a0d08bda34"
      },
      "execution_count": 8,
      "outputs": [
        {
          "output_type": "stream",
          "name": "stdout",
          "text": [
            "Merged Dataset:\n",
            "    transaction_id  customer_id  amount     name       city\n",
            "0             101            1     250    Alice  Hyderabad\n",
            "1             102            2     400      Bob  Bangalore\n",
            "2             103            1     150    Alice  Hyderabad\n",
            "3             104            3     300  Charlie  Hyderabad\n",
            "4             105            4     500    David    Chennai\n",
            "5             106            5     200      Eva  Bangalore\n",
            "6             107            2     350      Bob  Bangalore\n",
            "\n",
            "Customer Spend:\n",
            "    customer_id     name  total_spend\n",
            "0            1    Alice          400\n",
            "1            2      Bob          750\n",
            "2            3  Charlie          300\n",
            "3            4    David          500\n",
            "4            5      Eva          200\n"
          ]
        }
      ]
    },
    {
      "cell_type": "code",
      "source": [
        "city_spend = merged.groupby(\"city\")[\"amount\"].sum().reset_index()\n",
        "city_spend.rename(columns={\"amount\": \"city_total_spend\"}, inplace=True)\n",
        "print(\"\\nCity-wise Spend:\\n\", city_spend)\n",
        "\n",
        "top_spender = customer_spend.loc[customer_spend[\"total_spend\"].idxmax()]\n",
        "print(\"\\nTop Spender:\\n\", top_spender)"
      ],
      "metadata": {
        "colab": {
          "base_uri": "https://localhost:8080/",
          "height": 0
        },
        "id": "Gjtg4j_SAf6G",
        "outputId": "148ad1ea-fd2a-4732-f4b3-baf1dc248684"
      },
      "execution_count": 9,
      "outputs": [
        {
          "output_type": "stream",
          "name": "stdout",
          "text": [
            "\n",
            "City-wise Spend:\n",
            "         city  city_total_spend\n",
            "0  Bangalore               950\n",
            "1    Chennai               500\n",
            "2  Hyderabad               700\n",
            "\n",
            "Top Spender:\n",
            " customer_id      2\n",
            "name           Bob\n",
            "total_spend    750\n",
            "Name: 1, dtype: object\n"
          ]
        }
      ]
    },
    {
      "cell_type": "code",
      "source": [
        "import pandas as pd\n",
        "\n",
        "patients = pd.DataFrame({\n",
        "    \"patient_id\": [101, 102, 103, 104, 105],\n",
        "    \"name\": [\"Raj\", \"Priya\", \"Kiran\", \"Meena\", \"Arjun\"],\n",
        "    \"age\": [34, 29, 45, 50, 38]\n",
        "})\n",
        "\n",
        "appointments = pd.DataFrame({\n",
        "    \"appointment_id\": [1001, 1002, 1003, 1004, 1005, 1006, 1007],\n",
        "    \"patient_id\": [101, 102, 103, 101, 104, 105, 102],\n",
        "    \"doctor\": [\"Dr. Rao\", \"Dr. Mehta\", \"Dr. Rao\", \"Dr. Kumar\", \"Dr. Mehta\", \"Dr. Rao\", \"Dr. Kumar\"]\n",
        "})"
      ],
      "metadata": {
        "id": "j4T70LiIAhT4"
      },
      "execution_count": 10,
      "outputs": []
    },
    {
      "cell_type": "code",
      "source": [
        "merged_health = pd.merge(appointments, patients, on=\"patient_id\")\n",
        "print(\"Merged Dataset:\\n\", merged_health)\n",
        "\n",
        "patient_visits = merged_health.groupby([\"patient_id\", \"name\"])[\"appointment_id\"].count().reset_index()\n",
        "patient_visits.rename(columns={\"appointment_id\": \"total_visits\"}, inplace=True)\n",
        "print(\"\\nPatient Visits:\\n\", patient_visits)"
      ],
      "metadata": {
        "colab": {
          "base_uri": "https://localhost:8080/",
          "height": 0
        },
        "id": "UbKdXAoSApMd",
        "outputId": "c6660490-9837-4535-d21e-bc6438d088da"
      },
      "execution_count": 11,
      "outputs": [
        {
          "output_type": "stream",
          "name": "stdout",
          "text": [
            "Merged Dataset:\n",
            "    appointment_id  patient_id     doctor   name  age\n",
            "0            1001         101    Dr. Rao    Raj   34\n",
            "1            1002         102  Dr. Mehta  Priya   29\n",
            "2            1003         103    Dr. Rao  Kiran   45\n",
            "3            1004         101  Dr. Kumar    Raj   34\n",
            "4            1005         104  Dr. Mehta  Meena   50\n",
            "5            1006         105    Dr. Rao  Arjun   38\n",
            "6            1007         102  Dr. Kumar  Priya   29\n",
            "\n",
            "Patient Visits:\n",
            "    patient_id   name  total_visits\n",
            "0         101    Raj             2\n",
            "1         102  Priya             2\n",
            "2         103  Kiran             1\n",
            "3         104  Meena             1\n",
            "4         105  Arjun             1\n"
          ]
        }
      ]
    },
    {
      "cell_type": "code",
      "source": [
        "doctor_workload = merged_health.groupby(\"doctor\")[\"appointment_id\"].count().reset_index()\n",
        "doctor_workload.rename(columns={\"appointment_id\": \"total_appointments\"}, inplace=True)\n",
        "print(\"\\nDoctor Workload:\\n\", doctor_workload)\n",
        "\n",
        "top_patient = patient_visits.loc[patient_visits[\"total_visits\"].idxmax()]\n",
        "print(\"\\nPatient with Maximum Visits:\\n\", top_patient)"
      ],
      "metadata": {
        "colab": {
          "base_uri": "https://localhost:8080/",
          "height": 0
        },
        "id": "sJYvtpyUAr4g",
        "outputId": "d2dd7003-8969-4d88-faef-9ba4af2c89b5"
      },
      "execution_count": 12,
      "outputs": [
        {
          "output_type": "stream",
          "name": "stdout",
          "text": [
            "\n",
            "Doctor Workload:\n",
            "       doctor  total_appointments\n",
            "0  Dr. Kumar                   2\n",
            "1  Dr. Mehta                   2\n",
            "2    Dr. Rao                   3\n",
            "\n",
            "Patient with Maximum Visits:\n",
            " patient_id      101\n",
            "name            Raj\n",
            "total_visits      2\n",
            "Name: 0, dtype: object\n"
          ]
        }
      ]
    }
  ]
}