{
  "nbformat": 4,
  "nbformat_minor": 0,
  "metadata": {
    "colab": {
      "provenance": [],
      "authorship_tag": "ABX9TyNGLB2YG1G3blbG4UGdeqB5",
      "include_colab_link": true
    },
    "kernelspec": {
      "name": "python3",
      "display_name": "Python 3"
    },
    "language_info": {
      "name": "python"
    }
  },
  "cells": [
    {
      "cell_type": "markdown",
      "metadata": {
        "id": "view-in-github",
        "colab_type": "text"
      },
      "source": [
        "<a href=\"https://colab.research.google.com/github/VoorugondaAnushka/2303A51176_B29_PDS/blob/main/Assignment3.ipynb\" target=\"_parent\"><img src=\"https://colab.research.google.com/assets/colab-badge.svg\" alt=\"Open In Colab\"/></a>"
      ]
    },
    {
      "cell_type": "code",
      "metadata": {
        "colab": {
          "base_uri": "https://localhost:8080/"
        },
        "id": "6615444b",
        "outputId": "76da1d24-982a-489e-c9c5-2b3f6fdafac5"
      },
      "source": [
        "import numpy as np\n",
        "\n",
        "test_scores = np.random.randint(50, 101, size=(4, 4))\n",
        "print(test_scores)"
      ],
      "execution_count": 12,
      "outputs": [
        {
          "output_type": "stream",
          "name": "stdout",
          "text": [
            "[[73 57 72 78]\n",
            " [90 75 65 67]\n",
            " [71 99 59 59]\n",
            " [53 56 78 67]]\n"
          ]
        }
      ]
    },
    {
      "cell_type": "code",
      "source": [
        "column_means = np.mean(test_scores, axis=0)\n",
        "row_means = np.mean(test_scores, axis=1)\n",
        "\n",
        "print(\"Column-wise means:\", column_means)\n",
        "print(\"Row-wise means:\", row_means)"
      ],
      "metadata": {
        "colab": {
          "base_uri": "https://localhost:8080/"
        },
        "id": "nhPFNACG9hHR",
        "outputId": "06743fb1-cdd5-4e71-b03d-df4644fb5864"
      },
      "execution_count": 13,
      "outputs": [
        {
          "output_type": "stream",
          "name": "stdout",
          "text": [
            "Column-wise means: [71.75 71.75 68.5  67.75]\n",
            "Row-wise means: [70.   74.25 72.   63.5 ]\n"
          ]
        }
      ]
    },
    {
      "cell_type": "code",
      "source": [
        "std_dev = np.std(test_scores)\n",
        "variance = np.var(test_scores)\n",
        "\n",
        "print(\"Standard Deviation:\", std_dev)\n",
        "print(\"Variance:\", variance)"
      ],
      "metadata": {
        "colab": {
          "base_uri": "https://localhost:8080/"
        },
        "id": "eDTaX3aq9i6S",
        "outputId": "0219e44d-6567-4414-ed88-97ff53bfb24a"
      },
      "execution_count": 14,
      "outputs": [
        {
          "output_type": "stream",
          "name": "stdout",
          "text": [
            "Standard Deviation: 12.111300250179582\n",
            "Variance: 146.68359375\n"
          ]
        }
      ]
    },
    {
      "cell_type": "code",
      "source": [
        "min_value = np.min(test_scores)\n",
        "max_value = np.max(test_scores)\n",
        "min_index = np.argmin(test_scores)\n",
        "max_index = np.argmax(test_scores)\n",
        "\n",
        "print(\"Minimum value:\", min_value)\n",
        "print(\"Maximum value:\", max_value)\n",
        "print(\"Index of minimum value:\", min_index)\n",
        "print(\"Index of maximum value:\", max_index)"
      ],
      "metadata": {
        "colab": {
          "base_uri": "https://localhost:8080/"
        },
        "id": "_1Cbyt9I9zq-",
        "outputId": "c038b40b-8ab8-4fea-f168-51a58108af3f"
      },
      "execution_count": 15,
      "outputs": [
        {
          "output_type": "stream",
          "name": "stdout",
          "text": [
            "Minimum value: 53\n",
            "Maximum value: 99\n",
            "Index of minimum value: 12\n",
            "Index of maximum value: 9\n"
          ]
        }
      ]
    },
    {
      "cell_type": "code",
      "source": [
        "print(\"Statistical Analysis Summary:\")\n",
        "print(f\"Row-wise means: {row_means}\")\n",
        "print(f\"Column-wise means: {column_means}\")\n",
        "print(f\"Overall Standard Deviation: {std_dev}\")\n",
        "print(f\"Overall Variance: {variance}\")\n",
        "print(f\"Global Minimum Value: {min_value} (Index: {min_index})\")\n",
        "print(f\"Global Maximum Value: {max_value} (Index: {max_index})\")"
      ],
      "metadata": {
        "colab": {
          "base_uri": "https://localhost:8080/"
        },
        "id": "EVPBzk5b92O6",
        "outputId": "8b131a89-2e97-48d3-a02c-263ca8a9835d"
      },
      "execution_count": 17,
      "outputs": [
        {
          "output_type": "stream",
          "name": "stdout",
          "text": [
            "Statistical Analysis Summary:\n",
            "Row-wise means: [70.   74.25 72.   63.5 ]\n",
            "Column-wise means: [71.75 71.75 68.5  67.75]\n",
            "Overall Standard Deviation: 12.111300250179582\n",
            "Overall Variance: 146.68359375\n",
            "Global Minimum Value: 53 (Index: 12)\n",
            "Global Maximum Value: 99 (Index: 9)\n"
          ]
        }
      ]
    },
    {
      "cell_type": "code",
      "source": [
        "rgb_image = np.random.randint(0, 256, size=(3, 3, 3))\n",
        "print(rgb_image)"
      ],
      "metadata": {
        "colab": {
          "base_uri": "https://localhost:8080/"
        },
        "id": "N96xipQQ96zM",
        "outputId": "bc258a9d-5fae-497b-f73e-f91b5484276a"
      },
      "execution_count": 18,
      "outputs": [
        {
          "output_type": "stream",
          "name": "stdout",
          "text": [
            "[[[  6 200 212]\n",
            "  [103 244   3]\n",
            "  [130 197 238]]\n",
            "\n",
            " [[ 90 216 200]\n",
            "  [ 24  29 130]\n",
            "  [219 167  99]]\n",
            "\n",
            " [[208  42 234]\n",
            "  [186 158  73]\n",
            "  [ 85 123 158]]]\n"
          ]
        }
      ]
    },
    {
      "cell_type": "code",
      "source": [
        "red_channel = rgb_image[:, :, 0]\n",
        "green_channel = rgb_image[:, :, 1]\n",
        "blue_channel = rgb_image[:, :, 2]\n",
        "\n",
        "print(\"Red Channel:\\n\", red_channel)\n",
        "print(\"Green Channel:\\n\", green_channel)\n",
        "print(\"Blue Channel:\\n\", blue_channel)"
      ],
      "metadata": {
        "colab": {
          "base_uri": "https://localhost:8080/"
        },
        "id": "nauqWaL2-EbK",
        "outputId": "1d4e9413-153d-4cf6-9782-3eb8c91e54b3"
      },
      "execution_count": 19,
      "outputs": [
        {
          "output_type": "stream",
          "name": "stdout",
          "text": [
            "Red Channel:\n",
            " [[  6 103 130]\n",
            " [ 90  24 219]\n",
            " [208 186  85]]\n",
            "Green Channel:\n",
            " [[200 244 197]\n",
            " [216  29 167]\n",
            " [ 42 158 123]]\n",
            "Blue Channel:\n",
            " [[212   3 238]\n",
            " [200 130  99]\n",
            " [234  73 158]]\n"
          ]
        }
      ]
    },
    {
      "cell_type": "code",
      "source": [
        "red_mean = np.mean(red_channel)\n",
        "green_mean = np.mean(green_channel)\n",
        "blue_mean = np.mean(blue_channel)\n",
        "\n",
        "print(f\"Average pixel intensity for Red channel: {red_mean}\")\n",
        "print(f\"Average pixel intensity for Green channel: {green_mean}\")\n",
        "print(f\"Average pixel intensity for Blue channel: {blue_mean}\")"
      ],
      "metadata": {
        "colab": {
          "base_uri": "https://localhost:8080/"
        },
        "id": "ecrv5AUg-G_n",
        "outputId": "1a8ff565-c504-4eeb-c37b-1d41e08c49b6"
      },
      "execution_count": 20,
      "outputs": [
        {
          "output_type": "stream",
          "name": "stdout",
          "text": [
            "Average pixel intensity for Red channel: 116.77777777777777\n",
            "Average pixel intensity for Green channel: 152.88888888888889\n",
            "Average pixel intensity for Blue channel: 149.66666666666666\n"
          ]
        }
      ]
    },
    {
      "cell_type": "code",
      "source": [
        "brightness_increase = 50\n",
        "brightened_image = np.clip(rgb_image + brightness_increase, 0, 255)\n",
        "print(\"Brightened Image (clipped at 255):\\n\", brightened_image)"
      ],
      "metadata": {
        "colab": {
          "base_uri": "https://localhost:8080/"
        },
        "id": "2uyxZqGv-JyB",
        "outputId": "17964d09-1002-47ae-f62e-ece804faf21c"
      },
      "execution_count": 21,
      "outputs": [
        {
          "output_type": "stream",
          "name": "stdout",
          "text": [
            "Brightened Image (clipped at 255):\n",
            " [[[ 56 250 255]\n",
            "  [153 255  53]\n",
            "  [180 247 255]]\n",
            "\n",
            " [[140 255 250]\n",
            "  [ 74  79 180]\n",
            "  [255 217 149]]\n",
            "\n",
            " [[255  92 255]\n",
            "  [236 208 123]\n",
            "  [135 173 208]]]\n"
          ]
        }
      ]
    },
    {
      "cell_type": "code",
      "source": [
        "print(\"Statistical Analysis Summary:\")\n",
        "print(\"Red Channel:\\n\", red_channel)\n",
        "print(\"Green Channel:\\n\", green_channel)\n",
        "print(\"Blue Channel:\\n\", blue_channel)\n",
        "print(f\"\\nAverage pixel intensity for Red channel: {red_mean}\")\n",
        "print(f\"Average pixel intensity for Green channel: {green_mean}\")\n",
        "print(f\"Average pixel intensity for Blue channel: {blue_mean}\")\n",
        "print(\"\\nBrightened Image (clipped at 255):\\n\", brightened_image)"
      ],
      "metadata": {
        "colab": {
          "base_uri": "https://localhost:8080/"
        },
        "id": "Is8zBQeB-Px3",
        "outputId": "18b5bda7-e02c-4fbd-a9fd-d5df4ee45164"
      },
      "execution_count": 22,
      "outputs": [
        {
          "output_type": "stream",
          "name": "stdout",
          "text": [
            "Statistical Analysis Summary:\n",
            "Red Channel:\n",
            " [[  6 103 130]\n",
            " [ 90  24 219]\n",
            " [208 186  85]]\n",
            "Green Channel:\n",
            " [[200 244 197]\n",
            " [216  29 167]\n",
            " [ 42 158 123]]\n",
            "Blue Channel:\n",
            " [[212   3 238]\n",
            " [200 130  99]\n",
            " [234  73 158]]\n",
            "\n",
            "Average pixel intensity for Red channel: 116.77777777777777\n",
            "Average pixel intensity for Green channel: 152.88888888888889\n",
            "Average pixel intensity for Blue channel: 149.66666666666666\n",
            "\n",
            "Brightened Image (clipped at 255):\n",
            " [[[ 56 250 255]\n",
            "  [153 255  53]\n",
            "  [180 247 255]]\n",
            "\n",
            " [[140 255 250]\n",
            "  [ 74  79 180]\n",
            "  [255 217 149]]\n",
            "\n",
            " [[255  92 255]\n",
            "  [236 208 123]\n",
            "  [135 173 208]]]\n"
          ]
        }
      ]
    }
  ]
}