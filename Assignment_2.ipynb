{
  "nbformat": 4,
  "nbformat_minor": 0,
  "metadata": {
    "colab": {
      "provenance": [],
      "authorship_tag": "ABX9TyN8cphQpdGS6h4yncLUpUqb",
      "include_colab_link": true
    },
    "kernelspec": {
      "name": "python3",
      "display_name": "Python 3"
    },
    "language_info": {
      "name": "python"
    }
  },
  "cells": [
    {
      "cell_type": "markdown",
      "metadata": {
        "id": "view-in-github",
        "colab_type": "text"
      },
      "source": [
        "<a href=\"https://colab.research.google.com/github/VoorugondaAnushka/2303A51176_B29_PDS/blob/main/Assignment_2.ipynb\" target=\"_parent\"><img src=\"https://colab.research.google.com/assets/colab-badge.svg\" alt=\"Open In Colab\"/></a>"
      ]
    },
    {
      "cell_type": "code",
      "source": [
        "import numpy as np\n",
        "\n",
        "monthly_temperatures = np.array([22.5, 24.0, 28.3, 32.1, 35.0, 33.8, 31.2, 30.0, 29.5, 27.0, 24.5, 23.0])\n",
        "\n",
        "avg_temp = np.mean(monthly_temperatures)\n",
        "print(\"Average Temperature:\", avg_temp)\n",
        "\n",
        "hottest_month = np.argmax(monthly_temperatures) + 1\n",
        "coldest_month = np.argmin(monthly_temperatures) + 1\n",
        "print(\"Hottest Month:\", hottest_month)\n",
        "print(\"Coldest Month:\", coldest_month)\n",
        "\n",
        "normalized_temps = (monthly_temperatures - np.min(monthly_temperatures)) / (np.max(monthly_temperatures) - np.min(monthly_temperatures))\n",
        "print(\"Normalised temp:\",normalized_temps)\n",
        "\n",
        "above_avg_months = np.where(monthly_temperatures > avg_temp)[0] + 1\n",
        "print(above_avg_months)\n",
        "\n",
        "temps_fahrenheit = (monthly_temperatures * 9/5) + 32\n",
        "print(temps_fahrenheit)\n"
      ],
      "metadata": {
        "colab": {
          "base_uri": "https://localhost:8080/"
        },
        "id": "j4Qd5IYQAida",
        "outputId": "b7da3672-cff4-4e7d-8fa3-b17a9918192d"
      },
      "execution_count": 41,
      "outputs": [
        {
          "output_type": "stream",
          "name": "stdout",
          "text": [
            "Average Temperature: 28.40833333333333\n",
            "Hottest Month: 5\n",
            "Coldest Month: 1\n",
            "Normalised temp: [0.    0.12  0.464 0.768 1.    0.904 0.696 0.6   0.56  0.36  0.16  0.04 ]\n",
            "[4 5 6 7 8 9]\n",
            "[72.5  75.2  82.94 89.78 95.   92.84 88.16 86.   85.1  80.6  76.1  73.4 ]\n"
          ]
        }
      ]
    },
    {
      "cell_type": "code",
      "source": [
        "import pandas as pd\n",
        "\n",
        "data = {\n",
        "    'OrderID': [123, 456, 789],\n",
        "    'Product': ['Refrigirator','Television','Washing Machine'],\n",
        "    'Quantity': [5,2,4],\n",
        "    'Price': [200000,90000,100000]\n",
        "}\n",
        "\n",
        "df = pd.DataFrame(data)\n",
        "df['Total_sales'] = df['Quantity'] * df['Price']\n",
        "print(\"Total_Sales:\\n\", df['Total_sales'])\n",
        "\n",
        "filtered_orders = df[df['Total_sales'] > 1000]\n",
        "print(filtered_orders)\n",
        "\n",
        "groupby_product = df.groupby('Product')['Quantity'].sum()\n",
        "print(\"\\nGrouped by Quantity:\\n\", groupby_product)\n",
        "\n",
        "df['Discount'] = df['Total_sales'] * 0.5\n",
        "print(\"\\nDataFrame with Discount:\\n\", df)"
      ],
      "metadata": {
        "colab": {
          "base_uri": "https://localhost:8080/"
        },
        "id": "6i2J_mnrCbfY",
        "outputId": "5d4a6a85-7001-43e8-9c69-ae8ed9692850"
      },
      "execution_count": 42,
      "outputs": [
        {
          "output_type": "stream",
          "name": "stdout",
          "text": [
            "Total_Sales:\n",
            " 0    1000000\n",
            "1     180000\n",
            "2     400000\n",
            "Name: Total_sales, dtype: int64\n",
            "   OrderID          Product  Quantity   Price  Total_sales\n",
            "0      123     Refrigirator         5  200000      1000000\n",
            "1      456       Television         2   90000       180000\n",
            "2      789  Washing Machine         4  100000       400000\n",
            "\n",
            "Grouped by Quantity:\n",
            " Product\n",
            "Refrigirator       5\n",
            "Television         2\n",
            "Washing Machine    4\n",
            "Name: Quantity, dtype: int64\n",
            "\n",
            "DataFrame with Discount:\n",
            "    OrderID          Product  Quantity   Price  Total_sales  Discount\n",
            "0      123     Refrigirator         5  200000      1000000  500000.0\n",
            "1      456       Television         2   90000       180000   90000.0\n",
            "2      789  Washing Machine         4  100000       400000  200000.0\n"
          ]
        }
      ]
    }
  ]
}