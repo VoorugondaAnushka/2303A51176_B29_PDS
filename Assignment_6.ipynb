{
  "nbformat": 4,
  "nbformat_minor": 0,
  "metadata": {
    "colab": {
      "provenance": [],
      "authorship_tag": "ABX9TyNdd66bzZdSrhTtO/cTrYD7",
      "include_colab_link": true
    },
    "kernelspec": {
      "name": "python3",
      "display_name": "Python 3"
    },
    "language_info": {
      "name": "python"
    }
  },
  "cells": [
    {
      "cell_type": "markdown",
      "metadata": {
        "id": "view-in-github",
        "colab_type": "text"
      },
      "source": [
        "<a href=\"https://colab.research.google.com/github/VoorugondaAnushka/2303A51176_B29_PDS/blob/main/Assignment_6.ipynb\" target=\"_parent\"><img src=\"https://colab.research.google.com/assets/colab-badge.svg\" alt=\"Open In Colab\"/></a>"
      ]
    },
    {
      "cell_type": "code",
      "execution_count": 3,
      "metadata": {
        "colab": {
          "base_uri": "https://localhost:8080/"
        },
        "id": "T0XpY_jXDmcR",
        "outputId": "31c03ae1-4399-4041-961d-a01a2dd8d961"
      },
      "outputs": [
        {
          "output_type": "stream",
          "name": "stdout",
          "text": [
            "Original Dataset\n",
            "   Patient_ID  Age\n",
            "0           1   25\n",
            "1           2   34\n",
            "2           3   67\n",
            "3           4  120\n",
            "4           5   -5\n",
            "5           6   45\n",
            "6           7  200\n",
            "7           8   89\n",
            "8           9   32\n",
            "9          10  150\n",
            "\n",
            "Detected Outliers\n",
            "   Patient_ID  Age\n",
            "4           5   -5\n",
            "6           7  200\n",
            "9          10  150\n",
            "\n",
            "Cleaned Dataset\n",
            "   Patient_ID  Age\n",
            "0           1   25\n",
            "1           2   34\n",
            "2           3   67\n",
            "3           4  120\n",
            "5           6   45\n",
            "7           8   89\n",
            "8           9   32\n"
          ]
        }
      ],
      "source": [
        "import pandas as pd\n",
        "\n",
        "data = {'Patient_ID': range(1, 11),\n",
        "        'Age': [25, 34, 67, 120, -5, 45, 200, 89, 32, 150]}\n",
        "df = pd.DataFrame(data)\n",
        "\n",
        "print(\"Original Dataset\")\n",
        "print(df)\n",
        "\n",
        "outliers = df[(df['Age'] < 0) | (df['Age'] > 120)]\n",
        "print(\"\\nDetected Outliers\")\n",
        "print(outliers)\n",
        "\n",
        "df_cleaned = df[(df['Age'] >= 0) & (df['Age'] <= 120)]\n",
        "\n",
        "print(\"\\nCleaned Dataset\")\n",
        "print(df_cleaned)\n"
      ]
    },
    {
      "cell_type": "code",
      "source": [
        "import pandas as pd\n",
        "from sklearn.preprocessing import MinMaxScaler, StandardScaler\n",
        "\n",
        "data = {'Customer_ID': range(1, 6),\n",
        "        'Income': [20000, 35000, 50000, 75000, 100000]}\n",
        "df = pd.DataFrame(data)\n",
        "\n",
        "print(\"Original Dataset\")\n",
        "print(df)\n",
        "\n",
        "scaler_minmax = MinMaxScaler()\n",
        "df['Income_MinMax'] = scaler_minmax.fit_transform(df[['Income']])\n",
        "\n",
        "scaler_std = StandardScaler()\n",
        "df['Income_Standardized'] = scaler_std.fit_transform(df[['Income']])\n",
        "\n",
        "print(\"\\nScaled Dataset\")\n",
        "print(df)\n"
      ],
      "metadata": {
        "colab": {
          "base_uri": "https://localhost:8080/"
        },
        "id": "vRxf_6JSD0x7",
        "outputId": "f822f49b-6486-4f1b-9873-db85264c18ea"
      },
      "execution_count": 2,
      "outputs": [
        {
          "output_type": "stream",
          "name": "stdout",
          "text": [
            "Original Dataset\n",
            "   Customer_ID  Income\n",
            "0            1   20000\n",
            "1            2   35000\n",
            "2            3   50000\n",
            "3            4   75000\n",
            "4            5  100000\n",
            "\n",
            "Scaled Dataset\n",
            "   Customer_ID  Income  Income_MinMax  Income_Standardized\n",
            "0            1   20000         0.0000            -1.261799\n",
            "1            2   35000         0.1875            -0.736050\n",
            "2            3   50000         0.3750            -0.210300\n",
            "3            4   75000         0.6875             0.665950\n",
            "4            5  100000         1.0000             1.542199\n"
          ]
        }
      ]
    }
  ]
}